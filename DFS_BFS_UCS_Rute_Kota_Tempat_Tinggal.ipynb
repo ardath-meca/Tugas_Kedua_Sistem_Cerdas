{
  "nbformat": 4,
  "nbformat_minor": 0,
  "metadata": {
    "colab": {
      "name": "DFS BFS UCS Rute Kota Tempat Tinggal.ipynb",
      "provenance": []
    },
    "kernelspec": {
      "name": "python3",
      "display_name": "Python 3"
    },
    "language_info": {
      "name": "python"
    }
  },
  "cells": [
    {
      "cell_type": "code",
      "metadata": {
        "colab": {
          "base_uri": "https://localhost:8080/"
        },
        "id": "khZ-82fyODcN",
        "outputId": "337e4c02-f063-470d-a7c5-3b3bb7290ca9"
      },
      "source": [
        "from google.colab import drive\n",
        "drive.mount('/content/drive')"
      ],
      "execution_count": 11,
      "outputs": [
        {
          "output_type": "stream",
          "name": "stdout",
          "text": [
            "Drive already mounted at /content/drive; to attempt to forcibly remount, call drive.mount(\"/content/drive\", force_remount=True).\n"
          ]
        }
      ]
    },
    {
      "cell_type": "code",
      "metadata": {
        "colab": {
          "base_uri": "https://localhost:8080/"
        },
        "id": "vUovGOdHRa8D",
        "outputId": "05c2b0cc-113d-495a-ae5b-4e28d175741f"
      },
      "source": [
        "cd /content/drive/MyDrive/Colab Notebooks"
      ],
      "execution_count": 12,
      "outputs": [
        {
          "output_type": "stream",
          "name": "stdout",
          "text": [
            "/content/drive/MyDrive/Colab Notebooks\n"
          ]
        }
      ]
    },
    {
      "cell_type": "code",
      "metadata": {
        "colab": {
          "base_uri": "https://localhost:8080/"
        },
        "id": "W-oe3zz_WNZ_",
        "outputId": "cb29ec52-6291-413c-f9fc-1a4d680af568"
      },
      "source": [
        "sample_text = open(\"/content/drive/My Drive/Colab Notebooks/samplekota.txt\")\n",
        "txt = sample_text.readlines()\n",
        "print(txt)"
      ],
      "execution_count": 13,
      "outputs": [
        {
          "output_type": "stream",
          "name": "stdout",
          "text": [
            "['8 13\\n', 'Lembang Ciwidey\\n', 'Lembang Padalarang 15\\n', 'Lembang Cimahi 10\\n', 'Lembang Bandung 11\\n', 'Padalarang Batujajar 7\\n', 'Padalarang Ciwidey 26\\n', 'Cimahi Batujajar 5\\n', 'Cimahi Soreang 16\\n', 'Bandung Cimahi 8\\n', 'Bandung Soreang 13\\n', 'Bandung Banjaran 13\\n', 'Batujajar Banjaran 18\\n', 'Soreang Ciwidey 10\\n', 'Banjaran Ciwidey 15']\n"
          ]
        }
      ]
    },
    {
      "cell_type": "code",
      "metadata": {
        "colab": {
          "base_uri": "https://localhost:8080/"
        },
        "id": "pVRXf4uCWbc8",
        "outputId": "4cd57ba9-f3de-40be-e70c-b45cb86e3316"
      },
      "source": [
        "total_nodes, total_edges = txt[0].split()\n",
        "start, goal = txt[1].split()\n",
        "start_node=[]\n",
        "end_node=[]\n",
        "cost = []\n",
        "for i in range(2,len(txt)):\n",
        "  a, b, c = txt[i].split()\n",
        "  start_node.append(a)\n",
        "  end_node.append(b)\n",
        "  cost.append(c)\n",
        "print(\"Start node:\",start,\"\\nEnd node: \", goal,\"\\nTotal nodes=\",total_nodes,\"\\nTotal edges= \",total_edges)\n",
        "for i,j,k in zip(start_node, end_node, cost):\n",
        "  print(i,\"->\",j,\"=\",k)"
      ],
      "execution_count": 14,
      "outputs": [
        {
          "output_type": "stream",
          "name": "stdout",
          "text": [
            "Start node: Lembang \n",
            "End node:  Ciwidey \n",
            "Total nodes= 8 \n",
            "Total edges=  13\n",
            "Lembang -> Padalarang = 15\n",
            "Lembang -> Cimahi = 10\n",
            "Lembang -> Bandung = 11\n",
            "Padalarang -> Batujajar = 7\n",
            "Padalarang -> Ciwidey = 26\n",
            "Cimahi -> Batujajar = 5\n",
            "Cimahi -> Soreang = 16\n",
            "Bandung -> Cimahi = 8\n",
            "Bandung -> Soreang = 13\n",
            "Bandung -> Banjaran = 13\n",
            "Batujajar -> Banjaran = 18\n",
            "Soreang -> Ciwidey = 10\n",
            "Banjaran -> Ciwidey = 15\n"
          ]
        }
      ]
    },
    {
      "cell_type": "code",
      "metadata": {
        "colab": {
          "base_uri": "https://localhost:8080/"
        },
        "id": "y3GW99DxWjiY",
        "outputId": "97f23610-e4aa-42cb-ebcc-404b8f92759d"
      },
      "source": [
        "temp1 = set(start_node)\n",
        "temp2 = set(end_node)\n",
        "total_states = temp1.union(temp2)\n",
        "print(\"Total states= \",total_states)\n",
        "total_states = list(total_states)"
      ],
      "execution_count": 15,
      "outputs": [
        {
          "output_type": "stream",
          "name": "stdout",
          "text": [
            "Total states=  {'Soreang', 'Cimahi', 'Banjaran', 'Batujajar', 'Bandung', 'Ciwidey', 'Lembang', 'Padalarang'}\n"
          ]
        }
      ]
    },
    {
      "cell_type": "code",
      "metadata": {
        "colab": {
          "base_uri": "https://localhost:8080/"
        },
        "id": "WNdbHOfeWruw",
        "outputId": "843a91f8-a3e5-47ab-8801-4e778ad711a4"
      },
      "source": [
        "values = dict()\n",
        "j = 0\n",
        "for i in total_states:\n",
        "  values[i] = j\n",
        "  j = j + 1\n",
        "print(values)"
      ],
      "execution_count": 16,
      "outputs": [
        {
          "output_type": "stream",
          "name": "stdout",
          "text": [
            "{'Soreang': 0, 'Cimahi': 1, 'Banjaran': 2, 'Batujajar': 3, 'Bandung': 4, 'Ciwidey': 5, 'Lembang': 6, 'Padalarang': 7}\n"
          ]
        }
      ]
    },
    {
      "cell_type": "code",
      "metadata": {
        "colab": {
          "base_uri": "https://localhost:8080/"
        },
        "id": "ROe7C05SWvB_",
        "outputId": "113b0d6c-2122-40ba-bf9e-d1d5c379e418"
      },
      "source": [
        "matrix = []\n",
        "for i in total_states:\n",
        "  x = []\n",
        "  for j in total_states:\n",
        "    flag = 0\n",
        "    for k in range(0, len(start_node)):\n",
        "        if(i == start_node[k] and j == end_node[k]):\n",
        "          x.append(int(cost[k]))\n",
        "          flag = 1\n",
        "          break\n",
        "    if(flag == 0):\n",
        "      x.append(0)\n",
        "  print('\\n')\n",
        "  matrix.append(x)\n"
      ],
      "execution_count": 17,
      "outputs": [
        {
          "output_type": "stream",
          "name": "stdout",
          "text": [
            "\n",
            "\n",
            "\n",
            "\n",
            "\n",
            "\n",
            "\n",
            "\n",
            "\n",
            "\n",
            "\n",
            "\n",
            "\n",
            "\n",
            "\n",
            "\n"
          ]
        }
      ]
    },
    {
      "cell_type": "code",
      "metadata": {
        "colab": {
          "base_uri": "https://localhost:8080/"
        },
        "id": "ZxwaotsMWywW",
        "outputId": "ab3cdeac-914e-48bb-9a6e-bcd9b050e42d"
      },
      "source": [
        "print(\"   \",end='')\n",
        "for i in total_states:\n",
        "  print(\" \",i, end='')\n",
        "print(\"\\n\")\n",
        "for i,j in zip(matrix, total_states):\n",
        "  print(j,\" \",i)"
      ],
      "execution_count": 18,
      "outputs": [
        {
          "output_type": "stream",
          "name": "stdout",
          "text": [
            "     Soreang  Cimahi  Banjaran  Batujajar  Bandung  Ciwidey  Lembang  Padalarang\n",
            "\n",
            "Soreang   [0, 0, 0, 0, 0, 10, 0, 0]\n",
            "Cimahi   [16, 0, 0, 5, 0, 0, 0, 0]\n",
            "Banjaran   [0, 0, 0, 0, 0, 15, 0, 0]\n",
            "Batujajar   [0, 0, 18, 0, 0, 0, 0, 0]\n",
            "Bandung   [13, 8, 13, 0, 0, 0, 0, 0]\n",
            "Ciwidey   [0, 0, 0, 0, 0, 0, 0, 0]\n",
            "Lembang   [0, 10, 0, 0, 11, 0, 0, 15]\n",
            "Padalarang   [0, 0, 0, 7, 0, 26, 0, 0]\n"
          ]
        }
      ]
    },
    {
      "cell_type": "code",
      "metadata": {
        "colab": {
          "base_uri": "https://localhost:8080/"
        },
        "id": "otk_Spx6W2hk",
        "outputId": "537cf667-f3b0-4810-d962-1e8564158102"
      },
      "source": [
        "#search algorithms DFS\n",
        "graph = dict()\n",
        "for i in total_states:\n",
        "  b = []\n",
        "  for k in total_states:\n",
        "    if (matrix[values[i]][values[k]] != 0):\n",
        "      b.append(total_states[values[k]])\n",
        "  graph[i] = b\n",
        "visited = set() \n",
        "print(\"The visited nodes are: \",end='')\n",
        "def dfs(visited, graph, node):\n",
        "    if node not in visited:\n",
        "        print (node,end = \" \")\n",
        "        visited.add(node)\n",
        "        for neighbour in graph[node]:\n",
        "            dfs(visited, graph, neighbour)\n",
        "\n",
        "dfs(visited, graph, start)"
      ],
      "execution_count": 19,
      "outputs": [
        {
          "output_type": "stream",
          "name": "stdout",
          "text": [
            "The visited nodes are: Lembang Cimahi Soreang Ciwidey Batujajar Banjaran Bandung Padalarang "
          ]
        }
      ]
    },
    {
      "cell_type": "code",
      "metadata": {
        "colab": {
          "base_uri": "https://localhost:8080/"
        },
        "id": "gIMz1sLlXCWg",
        "outputId": "2e2cfe4e-ba94-48e1-e915-99decc41a78d"
      },
      "source": [
        "#search algorithms BFS\n",
        "visited = [] \n",
        "queue = []     \n",
        "def bfs(visited, graph, node):\n",
        "  visited.append(node)\n",
        "  queue.append(node)\n",
        "  print(\"The visited nodes are: \",end='')\n",
        "  while queue:\n",
        "    s = queue.pop(0) \n",
        "    print (s,end=\" \") \n",
        "    for neighbour in graph[s]:\n",
        "      if neighbour not in visited:\n",
        "        visited.append(neighbour)\n",
        "        queue.append(neighbour)\n",
        "\n",
        "bfs(visited, graph, start)"
      ],
      "execution_count": 20,
      "outputs": [
        {
          "output_type": "stream",
          "name": "stdout",
          "text": [
            "The visited nodes are: Lembang Cimahi Bandung Padalarang Soreang Batujajar Banjaran Ciwidey "
          ]
        }
      ]
    }
  ]
}