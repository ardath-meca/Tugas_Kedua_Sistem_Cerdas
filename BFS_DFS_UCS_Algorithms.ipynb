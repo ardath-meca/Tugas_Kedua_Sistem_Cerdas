{
  "nbformat": 4,
  "nbformat_minor": 0,
  "metadata": {
    "colab": {
      "name": "BFS DFS UCS Algorithms.ipynb",
      "provenance": []
    },
    "kernelspec": {
      "name": "python3",
      "display_name": "Python 3"
    },
    "language_info": {
      "name": "python"
    }
  },
  "cells": [
    {
      "cell_type": "code",
      "metadata": {
        "colab": {
          "base_uri": "https://localhost:8080/"
        },
        "id": "vinrefPVnj5j",
        "outputId": "9c07525c-45fe-40ae-bdd5-ab790a9b2aae"
      },
      "source": [
        "from google.colab import drive\n",
        "drive.mount('/content/drive')"
      ],
      "execution_count": null,
      "outputs": [
        {
          "output_type": "stream",
          "name": "stdout",
          "text": [
            "Mounted at /content/drive\n"
          ]
        }
      ]
    },
    {
      "cell_type": "code",
      "metadata": {
        "id": "a4_teHSboYYq",
        "colab": {
          "base_uri": "https://localhost:8080/"
        },
        "outputId": "610f43bc-b4e9-45ad-86fb-78e94842a8ad"
      },
      "source": [
        "cd /content/drive/MyDrive/Colab Notebooks"
      ],
      "execution_count": null,
      "outputs": [
        {
          "output_type": "stream",
          "name": "stdout",
          "text": [
            "/content/drive/MyDrive/Colab Notebooks\n"
          ]
        }
      ]
    },
    {
      "cell_type": "code",
      "metadata": {
        "colab": {
          "base_uri": "https://localhost:8080/"
        },
        "id": "5EC5i3yU63oF",
        "outputId": "b0eebb71-7afe-43f9-a9e9-863aced94341"
      },
      "source": [
        "# Prac 1: Baca file, simpan data dalam matriks dan tampilkan datanya\n",
        "\n",
        "sample_text = open(\"/content/drive/My Drive/Colab Notebooks/sample.txt\")\n",
        "txt = sample_text.readlines()\n",
        "print(txt)"
      ],
      "execution_count": null,
      "outputs": [
        {
          "output_type": "stream",
          "name": "stdout",
          "text": [
            "['8 13\\n', 'S G\\n', 'S A 6\\n', 'S B 2\\n', 'S C 1\\n', 'A D 3\\n', 'A G 20\\n', 'B D 2\\n', 'B E 6\\n', 'C B 3\\n', 'C E 6\\n', 'C F 4\\n', 'D F 5\\n', 'E G 2\\n', 'F G 1']\n"
          ]
        }
      ]
    },
    {
      "cell_type": "code",
      "metadata": {
        "colab": {
          "base_uri": "https://localhost:8080/"
        },
        "id": "e_CGW8N77yz4",
        "outputId": "733ada61-da13-4f3d-e239-6c8f9d885533"
      },
      "source": [
        "total_nodes, total_edges = txt[0].split()\n",
        "start, goal = txt[1].split()\n",
        "start_node=[]\n",
        "end_node=[]\n",
        "cost = []\n",
        "for i in range(2,len(txt)):\n",
        "  a, b, c = txt[i].split()\n",
        "  start_node.append(a)\n",
        "  end_node.append(b)\n",
        "  cost.append(c)\n",
        "print(\"Start node:\",start,\"\\nEnd node: \", goal,\"\\nTotal nodes=\",total_nodes,\"\\nTotal edges= \",total_edges)\n",
        "for i,j,k in zip(start_node, end_node, cost):\n",
        "  print(i,\"->\",j,\"=\",k)"
      ],
      "execution_count": null,
      "outputs": [
        {
          "output_type": "stream",
          "name": "stdout",
          "text": [
            "Start node: S \n",
            "End node:  G \n",
            "Total nodes= 8 \n",
            "Total edges=  13\n",
            "S -> A = 6\n",
            "S -> B = 2\n",
            "S -> C = 1\n",
            "A -> D = 3\n",
            "A -> G = 20\n",
            "B -> D = 2\n",
            "B -> E = 6\n",
            "C -> B = 3\n",
            "C -> E = 6\n",
            "C -> F = 4\n",
            "D -> F = 5\n",
            "E -> G = 2\n",
            "F -> G = 1\n"
          ]
        }
      ]
    },
    {
      "cell_type": "code",
      "metadata": {
        "colab": {
          "base_uri": "https://localhost:8080/"
        },
        "id": "sSrUPQBe75ON",
        "outputId": "0930a6f6-4037-45aa-c51f-afb9545564a6"
      },
      "source": [
        "temp1 = set(start_node)\n",
        "temp2 = set(end_node)\n",
        "total_states = temp1.union(temp2)\n",
        "print(\"Total states= \",total_states)\n",
        "total_states = list(total_states)"
      ],
      "execution_count": null,
      "outputs": [
        {
          "output_type": "stream",
          "name": "stdout",
          "text": [
            "Total states=  {'E', 'G', 'A', 'C', 'D', 'F', 'B', 'S'}\n"
          ]
        }
      ]
    },
    {
      "cell_type": "code",
      "metadata": {
        "colab": {
          "base_uri": "https://localhost:8080/"
        },
        "id": "jj28UpRV78U6",
        "outputId": "22eac312-3242-4cd1-ce8b-cccbc71be81d"
      },
      "source": [
        "values = dict()\n",
        "j = 0\n",
        "for i in total_states:\n",
        "  values[i] = j\n",
        "  j = j + 1\n",
        "print(values)"
      ],
      "execution_count": null,
      "outputs": [
        {
          "output_type": "stream",
          "name": "stdout",
          "text": [
            "{'E': 0, 'G': 1, 'A': 2, 'C': 3, 'D': 4, 'F': 5, 'B': 6, 'S': 7}\n"
          ]
        }
      ]
    },
    {
      "cell_type": "code",
      "metadata": {
        "colab": {
          "base_uri": "https://localhost:8080/"
        },
        "id": "oZGHi4Op79oO",
        "outputId": "39639e9f-1b9f-4674-f007-5992eabe77f5"
      },
      "source": [
        "matrix = []\n",
        "for i in total_states:\n",
        "  x = []\n",
        "  for j in total_states:\n",
        "    flag = 0\n",
        "    for k in range(0, len(start_node)):\n",
        "        if(i == start_node[k] and j == end_node[k]):\n",
        "          x.append(int(cost[k]))\n",
        "          flag = 1\n",
        "          break\n",
        "    if(flag == 0):\n",
        "      x.append(0)\n",
        "  print('\\n')\n",
        "  matrix.append(x)"
      ],
      "execution_count": null,
      "outputs": [
        {
          "output_type": "stream",
          "name": "stdout",
          "text": [
            "\n",
            "\n",
            "\n",
            "\n",
            "\n",
            "\n",
            "\n",
            "\n",
            "\n",
            "\n",
            "\n",
            "\n",
            "\n",
            "\n",
            "\n",
            "\n"
          ]
        }
      ]
    },
    {
      "cell_type": "code",
      "metadata": {
        "colab": {
          "base_uri": "https://localhost:8080/"
        },
        "id": "J-2Bb-OE8CQ1",
        "outputId": "0d231fc3-fb54-4bf7-f344-976947a1e831"
      },
      "source": [
        "print(\"   \",end='')\n",
        "for i in total_states:\n",
        "  print(\" \",i, end='')\n",
        "print(\"\\n\")\n",
        "for i,j in zip(matrix, total_states):\n",
        "  print(j,\" \",i)"
      ],
      "execution_count": null,
      "outputs": [
        {
          "output_type": "stream",
          "name": "stdout",
          "text": [
            "     E  G  A  C  D  F  B  S\n",
            "\n",
            "E   [0, 2, 0, 0, 0, 0, 0, 0]\n",
            "G   [0, 0, 0, 0, 0, 0, 0, 0]\n",
            "A   [0, 20, 0, 0, 3, 0, 0, 0]\n",
            "C   [6, 0, 0, 0, 0, 4, 3, 0]\n",
            "D   [0, 0, 0, 0, 0, 5, 0, 0]\n",
            "F   [0, 1, 0, 0, 0, 0, 0, 0]\n",
            "B   [6, 0, 0, 0, 2, 0, 0, 0]\n",
            "S   [0, 0, 6, 1, 0, 0, 2, 0]\n"
          ]
        }
      ]
    },
    {
      "cell_type": "code",
      "metadata": {
        "colab": {
          "base_uri": "https://localhost:8080/"
        },
        "id": "UhDsW52w8FTM",
        "outputId": "5e19ac63-2472-4e4a-9b14-7dd5ceca527b"
      },
      "source": [
        "#mencari algorithms DFS\n",
        "graph = dict()\n",
        "for i in total_states:\n",
        "  b = []\n",
        "  for k in total_states:\n",
        "    if (matrix[values[i]][values[k]] != 0):\n",
        "      b.append(total_states[values[k]])\n",
        "  graph[i] = b\n",
        "visited = set() \n",
        "print(\"The visited nodes are: \",end='')\n",
        "def dfs(visited, graph, node):\n",
        "    if node not in visited:\n",
        "        print (node,end = \" \")\n",
        "        visited.add(node)\n",
        "        for neighbour in graph[node]:\n",
        "            dfs(visited, graph, neighbour)\n",
        "\n",
        "dfs(visited, graph, start)"
      ],
      "execution_count": null,
      "outputs": [
        {
          "output_type": "stream",
          "name": "stdout",
          "text": [
            "The visited nodes are: S A G D F C E B "
          ]
        }
      ]
    },
    {
      "cell_type": "code",
      "metadata": {
        "colab": {
          "base_uri": "https://localhost:8080/"
        },
        "id": "gTkQGodZ8NSP",
        "outputId": "bf87fbb2-89b6-41a5-e37e-d5e6bb98c864"
      },
      "source": [
        "#Mencari algorithms BFS\n",
        "visited = [] \n",
        "queue = []     \n",
        "def bfs(visited, graph, node):\n",
        "  visited.append(node)\n",
        "  queue.append(node)\n",
        "  print(\"The visited nodes are: \",end='')\n",
        "  while queue:\n",
        "    s = queue.pop(0) \n",
        "    print (s,end=\" \") \n",
        "    for neighbour in graph[s]:\n",
        "      if neighbour not in visited:\n",
        "        visited.append(neighbour)\n",
        "        queue.append(neighbour)\n",
        "\n",
        "bfs(visited, graph, start)"
      ],
      "execution_count": null,
      "outputs": [
        {
          "output_type": "stream",
          "name": "stdout",
          "text": [
            "The visited nodes are: S A C B G D E F "
          ]
        }
      ]
    }
  ]
}